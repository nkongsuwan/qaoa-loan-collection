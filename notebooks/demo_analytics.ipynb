{
 "cells": [
  {
   "cell_type": "code",
   "execution_count": 1,
   "metadata": {},
   "outputs": [],
   "source": [
    "import sys\n",
    "sys.path.append('..') # Add path to the directory of qaoa-loan-collection\n",
    "\n",
    "import numpy as np\n",
    "from src.helpers import generate_random_dataset\n",
    "\n",
    "from src.loanee_graph import LoaneeGraph\n",
    "from src.qaoa_analytics import QaoaAnalytics\n",
    "from src.helpers import generate_random_dataset\n",
    "from src.result import ResultQaoa"
   ]
  },
  {
   "cell_type": "code",
   "execution_count": 2,
   "metadata": {},
   "outputs": [
    {
     "name": "stdout",
     "output_type": "stream",
     "text": [
      "ResultQaoa:\n",
      "    Convergence      = False\n",
      "    Length           = 50\n",
      "    Optimized Cost   = -1.2434888994246909\n",
      "    Optimized Params = [-0.02761005 -0.87741622  1.82102422 -0.092692  ]\n"
     ]
    }
   ],
   "source": [
    "rng = np.random.default_rng(12345)\n",
    "e_54, a_54 = generate_random_dataset(5,4, seed=123)\n",
    "\n",
    "config = {\n",
    "    \"epsilon_constant\": 0.5,\n",
    "    \"qaoa_repetition\": 2\n",
    "}\n",
    "\n",
    "l_54 = LoaneeGraph(e_54, a_54)\n",
    "qaoa_54 = QaoaAnalytics(l_54, config)\n",
    "\n",
    "initial_params = rng.random(4)\n",
    "result = qaoa_54.optimize_qaoa_params(initial_params)\n",
    "\n",
    "print(result)"
   ]
  },
  {
   "cell_type": "code",
   "execution_count": 3,
   "metadata": {},
   "outputs": [
    {
     "data": {
      "text/plain": [
       "-1.2434888994246909"
      ]
     },
     "execution_count": 3,
     "metadata": {},
     "output_type": "execute_result"
    }
   ],
   "source": [
    "result.get_optimized_cost()"
   ]
  },
  {
   "cell_type": "code",
   "execution_count": 4,
   "metadata": {},
   "outputs": [
    {
     "data": {
      "text/plain": [
       "array([-0.02761005, -0.87741622,  1.82102422, -0.092692  ])"
      ]
     },
     "execution_count": 4,
     "metadata": {},
     "output_type": "execute_result"
    }
   ],
   "source": [
    "result.get_optimized_params()"
   ]
  },
  {
   "cell_type": "code",
   "execution_count": 5,
   "metadata": {},
   "outputs": [
    {
     "data": {
      "text/plain": [
       "False"
      ]
     },
     "execution_count": 5,
     "metadata": {},
     "output_type": "execute_result"
    }
   ],
   "source": [
    "result.is_success()"
   ]
  },
  {
   "cell_type": "code",
   "execution_count": 6,
   "metadata": {},
   "outputs": [
    {
     "data": {
      "text/plain": [
       "[-1.1575493818573401,\n",
       " -1.1575493818573401,\n",
       " -0.9660634906804199,\n",
       " -1.2009342243553578,\n",
       " -1.197215457853933,\n",
       " -1.2094832359833336,\n",
       " -1.0323597382243361,\n",
       " -1.2094832359833338,\n",
       " -1.206314191476034,\n",
       " -1.2102753625457439,\n",
       " -1.0030784217075892,\n",
       " -1.2227356039814867,\n",
       " -1.2133288596346434,\n",
       " -1.2182153589924347,\n",
       " -1.2252812397924175,\n",
       " -1.2252812397924175,\n",
       " -1.2194952646094366,\n",
       " -1.220071409042989,\n",
       " -1.229004726903228,\n",
       " -1.2328995865851333,\n",
       " -1.2273541941721746,\n",
       " -1.2333125810118823,\n",
       " -1.232239013845131,\n",
       " -1.232839629884228,\n",
       " -1.2354405103351653,\n",
       " -1.2355193979954833,\n",
       " -1.2361788196079524,\n",
       " -1.234497230207035,\n",
       " -1.2364513314750085,\n",
       " -1.2378379354225884,\n",
       " -1.2373915926107104,\n",
       " -1.2385366202216206,\n",
       " -1.238435425238395,\n",
       " -1.2385416355451278,\n",
       " -1.2387265525640625,\n",
       " -1.2374754364378677,\n",
       " -1.2395397593180064,\n",
       " -1.2402354899808903,\n",
       " -1.240887788144601,\n",
       " -1.2412260308204717,\n",
       " -1.2418400149842403,\n",
       " -1.242263187083551,\n",
       " -1.2423813475842098,\n",
       " -1.2426783943310309,\n",
       " -1.2414971417147909,\n",
       " -1.2428282760072522,\n",
       " -1.2433963549960683,\n",
       " -1.2434888994246909,\n",
       " -1.2433916037510062,\n",
       " -1.2429273136771462]"
      ]
     },
     "execution_count": 6,
     "metadata": {},
     "output_type": "execute_result"
    }
   ],
   "source": [
    "result.get_list_costs()"
   ]
  },
  {
   "cell_type": "code",
   "execution_count": 7,
   "metadata": {},
   "outputs": [
    {
     "data": {
      "text/plain": [
       "[array([0.22733602, 0.31675834, 0.79736546, 0.67625467]),\n",
       " array([1.22733602, 0.31675834, 0.79736546, 0.67625467]),\n",
       " array([0.22733602, 1.31675834, 0.79736546, 0.67625467]),\n",
       " array([0.22733602, 0.31675834, 1.79736546, 0.67625467]),\n",
       " array([0.22733602, 0.31675834, 1.79736546, 1.67625467]),\n",
       " array([ 0.22733602, -0.65834765,  2.01829463,  0.65731755]),\n",
       " array([ 0.22733602, -0.64532345,  2.51629885,  0.61463072]),\n",
       " array([-0.02266398, -0.65834765,  2.01829463,  0.65731755]),\n",
       " array([-0.02266398, -0.78013626,  1.53338069,  0.65221867]),\n",
       " array([-0.02266398, -0.65319155,  2.01962781,  0.40737428]),\n",
       " array([-0.02266398, -0.95740531,  2.38878193,  0.26184344]),\n",
       " array([-0.02266398, -0.16691293,  1.90347648,  0.41385322]),\n",
       " array([-0.02266398,  0.08177582,  1.90456046,  0.38830464]),\n",
       " array([-0.02266398, -0.17402336,  2.01020214,  0.34916878]),\n",
       " array([-0.02266398, -0.2443488 ,  1.73063514,  0.25066756]),\n",
       " array([-0.14766398, -0.2443488 ,  1.73063514,  0.25066756]),\n",
       " array([-0.02266398, -0.4086403 ,  1.60332849,  0.38959675]),\n",
       " array([-0.02266398, -0.13874761,  1.66397292,  0.24523277]),\n",
       " array([-0.02266398, -0.30113887,  1.80482277,  0.1676249 ]),\n",
       " array([-0.02266398, -0.42154802,  1.83373437,  0.15057332]),\n",
       " array([-0.02266398, -0.48473814,  1.93992698,  0.16941844]),\n",
       " array([-0.02266398, -0.46594224,  1.75971511,  0.06015594]),\n",
       " array([ 0.01573775, -0.48576186,  1.72939099,  0.09361021]),\n",
       " array([-0.04720466, -0.47098006,  1.74654942,  0.07340743]),\n",
       " array([-0.02459039, -0.50058264,  1.80442284,  0.03362671]),\n",
       " array([-2.57147004e-02, -5.28507680e-01,  1.85020993e+00,  1.55304167e-03]),\n",
       " array([-0.02405695, -0.53226884,  1.83095654, -0.02271577]),\n",
       " array([-0.00293902, -0.48134958,  1.84488767, -0.04866639]),\n",
       " array([ 0.00534324, -0.54159287,  1.82932022, -0.01796432]),\n",
       " array([ 0.00451782, -0.59231458,  1.79422244, -0.02801532]),\n",
       " array([ 0.01912227, -0.62795074,  1.75568675, -0.05864251]),\n",
       " array([-6.17538569e-04, -6.16047877e-01,  1.80786042e+00, -1.38404668e-02]),\n",
       " array([-0.00362093, -0.61820984,  1.79138343,  0.01245358]),\n",
       " array([-0.01562543, -0.61637502,  1.80518932, -0.01725544]),\n",
       " array([-0.02155008, -0.63467454,  1.82862006, -0.0096667 ]),\n",
       " array([-2.85407079e-02, -6.16558375e-01,  1.85155805e+00, -1.10241500e-03]),\n",
       " array([-0.01677943, -0.66145799,  1.81789566, -0.02068655]),\n",
       " array([-0.01265905, -0.68930385,  1.81024414, -0.03189582]),\n",
       " array([-0.01032634, -0.71930759,  1.80887314, -0.04020344]),\n",
       " array([-0.01294639, -0.74710412,  1.82283409, -0.03873956]),\n",
       " array([-0.02576877, -0.76668235,  1.80933344, -0.05444225]),\n",
       " array([-0.02032794, -0.78694359,  1.80256669, -0.07659294]),\n",
       " array([-0.01997663, -0.80835393,  1.78145423, -0.06808995]),\n",
       " array([-0.04104167, -0.82356572,  1.78193919, -0.08544486]),\n",
       " array([-0.04505131, -0.81161188,  1.75917058, -0.10274173]),\n",
       " array([-0.02966317, -0.82895877,  1.7839619 , -0.09447226]),\n",
       " array([-0.02898773, -0.85107128,  1.80500183, -0.08780409]),\n",
       " array([-0.02761005, -0.87741622,  1.82102422, -0.092692  ]),\n",
       " array([-0.05746915, -0.87939587,  1.82441206, -0.08434931]),\n",
       " array([-0.02906584, -0.86943675,  1.83190934, -0.10042917])]"
      ]
     },
     "execution_count": 7,
     "metadata": {},
     "output_type": "execute_result"
    }
   ],
   "source": [
    "result.get_list_params()"
   ]
  },
  {
   "cell_type": "code",
   "execution_count": 8,
   "metadata": {},
   "outputs": [
    {
     "data": {
      "text/plain": [
       "array([ 0.22733602, -0.65834765,  2.01829463,  0.65731755])"
      ]
     },
     "execution_count": 8,
     "metadata": {},
     "output_type": "execute_result"
    }
   ],
   "source": [
    "result.get_params_with_index(5)"
   ]
  },
  {
   "cell_type": "code",
   "execution_count": 9,
   "metadata": {},
   "outputs": [
    {
     "data": {
      "text/plain": [
       "-1.2009342243553578"
      ]
     },
     "execution_count": 9,
     "metadata": {},
     "output_type": "execute_result"
    }
   ],
   "source": [
    "result.get_cost_with_index(3)"
   ]
  },
  {
   "cell_type": "code",
   "execution_count": null,
   "metadata": {},
   "outputs": [],
   "source": []
  }
 ],
 "metadata": {
  "kernelspec": {
   "display_name": "loan",
   "language": "python",
   "name": "python3"
  },
  "language_info": {
   "codemirror_mode": {
    "name": "ipython",
    "version": 3
   },
   "file_extension": ".py",
   "mimetype": "text/x-python",
   "name": "python",
   "nbconvert_exporter": "python",
   "pygments_lexer": "ipython3",
   "version": "3.10.8"
  },
  "orig_nbformat": 4,
  "vscode": {
   "interpreter": {
    "hash": "e71a22cf115eee08ece6edcee2c0c44d22634ab4190649e01eaa08c30de2c143"
   }
  }
 },
 "nbformat": 4,
 "nbformat_minor": 2
}
