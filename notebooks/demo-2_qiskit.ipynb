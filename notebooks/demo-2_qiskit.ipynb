{
 "cells": [
  {
   "cell_type": "code",
   "execution_count": null,
   "metadata": {},
   "outputs": [],
   "source": [
    "import sys\n",
    "sys.path.append('..') # Add path to the directory of qaoa-loan-collection"
   ]
  }
 ],
 "metadata": {
  "kernelspec": {
   "display_name": "loan",
   "language": "python",
   "name": "python3"
  },
  "language_info": {
   "name": "python",
   "version": "3.10.8"
  },
  "orig_nbformat": 4,
  "vscode": {
   "interpreter": {
    "hash": "e71a22cf115eee08ece6edcee2c0c44d22634ab4190649e01eaa08c30de2c143"
   }
  }
 },
 "nbformat": 4,
 "nbformat_minor": 2
}
